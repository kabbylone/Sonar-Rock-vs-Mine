{
 "cells": [
  {
   "cell_type": "code",
   "execution_count": 2,
   "id": "7df3efad-3427-47c1-af61-e08c60f80baf",
   "metadata": {},
   "outputs": [],
   "source": [
    "import numpy as np\n",
    "import pandas as pd\n",
    "from sklearn.model_selection import train_test_split\n",
    "from sklearn.linear_model import LogisticRegression\n",
    "from sklearn.metrics import accuracy_score"
   ]
  },
  {
   "cell_type": "markdown",
   "id": "3d0d6559",
   "metadata": {},
   "source": [
    "Data Loading and Processing"
   ]
  },
  {
   "cell_type": "code",
   "execution_count": 3,
   "id": "5c1e42d9-54ea-48d1-8b1f-f794972c7967",
   "metadata": {},
   "outputs": [],
   "source": [
    "#loading dataset\n",
    "sonar_data = pd.read_csv('sonar_data.csv', header = None)"
   ]
  },
  {
   "cell_type": "code",
   "execution_count": null,
   "id": "dab54a89-3cc7-4b6c-911a-d688d96a4f6e",
   "metadata": {},
   "outputs": [],
   "source": [
    "sonar_data.head()"
   ]
  },
  {
   "cell_type": "code",
   "execution_count": null,
   "id": "c91d18d6-f5a8-4596-ab5c-6075ed6a620a",
   "metadata": {},
   "outputs": [],
   "source": [
    "#number of rows and columns (rows, columns)\n",
    "sonar_data.shape"
   ]
  },
  {
   "cell_type": "code",
   "execution_count": null,
   "id": "eb360e67-6f88-466b-90ad-ebaad70aecd4",
   "metadata": {},
   "outputs": [],
   "source": [
    "sonar_data.describe() #statistical measures of the data"
   ]
  },
  {
   "cell_type": "code",
   "execution_count": null,
   "id": "a6c7b431-c69c-41d2-be13-917f0a1b2b6c",
   "metadata": {},
   "outputs": [],
   "source": [
    "sonar_data[60].value_counts()"
   ]
  },
  {
   "cell_type": "markdown",
   "id": "8e339aa8-a799-460c-8145-45fb34dd71c6",
   "metadata": {},
   "source": [
    "M --> Mine\n",
    "R --> Rock"
   ]
  },
  {
   "cell_type": "code",
   "execution_count": null,
   "id": "09051e14-dd5a-4b2d-ab10-5f3edf554b32",
   "metadata": {},
   "outputs": [],
   "source": [
    "sonar_data.groupby(60).mean()"
   ]
  },
  {
   "cell_type": "code",
   "execution_count": 9,
   "id": "2dcde33a-06b1-4335-8e8e-785a2609052a",
   "metadata": {},
   "outputs": [],
   "source": [
    "#seperating data and labels\n",
    "X = sonar_data.drop(columns = 60, axis = 1)\n",
    "Y = sonar_data[60]"
   ]
  },
  {
   "cell_type": "code",
   "execution_count": null,
   "id": "053f8817-e12c-4390-9375-2247bfdf64e9",
   "metadata": {},
   "outputs": [],
   "source": [
    "print(X)\n",
    "print(Y)"
   ]
  },
  {
   "cell_type": "markdown",
   "id": "f0bffc33-c474-4316-a6b8-4bd644919832",
   "metadata": {},
   "source": [
    "Training and Test Data"
   ]
  },
  {
   "cell_type": "code",
   "execution_count": 11,
   "id": "4009ffcd-fbc1-4711-84a9-cdc7e55f1d95",
   "metadata": {},
   "outputs": [],
   "source": [
    "X_train, X_test, Y_train, Y_test = train_test_split(X, Y, test_size = 0.1, stratify = Y, random_state = 1)\n"
   ]
  },
  {
   "cell_type": "code",
   "execution_count": null,
   "id": "601402a5-b051-418f-8fff-682206e0223a",
   "metadata": {},
   "outputs": [],
   "source": [
    "print(X.shape, X_train.shape, X_test.shape)"
   ]
  },
  {
   "cell_type": "code",
   "execution_count": null,
   "id": "38501ebe-19a8-4b86-b0ba-2f7735b87578",
   "metadata": {},
   "outputs": [],
   "source": [
    "print(X_train, Y_train)"
   ]
  },
  {
   "cell_type": "markdown",
   "id": "14d3dfa9-02ba-46a1-befb-eecfb31f46d0",
   "metadata": {},
   "source": [
    " Model Training --> Logistic Regression"
   ]
  },
  {
   "cell_type": "code",
   "execution_count": 14,
   "id": "9d39d946-97a7-4002-9113-93ec04f0aa10",
   "metadata": {},
   "outputs": [],
   "source": [
    "model = LogisticRegression()"
   ]
  },
  {
   "cell_type": "code",
   "execution_count": null,
   "id": "c8cbd811-b719-4326-afdd-b097526d4e90",
   "metadata": {},
   "outputs": [],
   "source": [
    "#training the Logistic Regression Model with training data\n",
    "model.fit(X_train, Y_train)"
   ]
  },
  {
   "cell_type": "markdown",
   "id": "b3abd75f-6d2e-45f1-8fce-0ed28c737bee",
   "metadata": {},
   "source": [
    "Model Evaluation"
   ]
  },
  {
   "cell_type": "code",
   "execution_count": 16,
   "id": "d464b96c-0df8-4098-ad4b-3abc95f5ddae",
   "metadata": {},
   "outputs": [],
   "source": [
    "#accuracy on the training data\n",
    "X_train_prediction = model.predict(X_train)\n",
    "training_data_accuracy = accuracy_score(X_train_prediction, Y_train)"
   ]
  },
  {
   "cell_type": "code",
   "execution_count": null,
   "id": "59d31b17-0ec8-4aad-abdf-3b15519b2414",
   "metadata": {},
   "outputs": [],
   "source": [
    "print('Accuracy on training data :', training_data_accuracy)"
   ]
  },
  {
   "cell_type": "code",
   "execution_count": 18,
   "id": "38cdb9bd-33fa-4e02-9118-5cbfad48fa70",
   "metadata": {},
   "outputs": [],
   "source": [
    "#accuracy on the testdata\n",
    "X_test_prediction = model.predict(X_test)\n",
    "test_data_accuracy = accuracy_score(X_test_prediction, Y_test)"
   ]
  },
  {
   "cell_type": "code",
   "execution_count": null,
   "id": "e2993b59-d720-42c3-aa8d-c0c7aca33a73",
   "metadata": {},
   "outputs": [],
   "source": [
    "print('Accuracy on testing dat :', test_data_accuracy)"
   ]
  },
  {
   "cell_type": "markdown",
   "id": "6a12cb04-19c7-4626-ae08-b66470d70d57",
   "metadata": {},
   "source": [
    "Making a Predictive System"
   ]
  },
  {
   "cell_type": "code",
   "execution_count": null,
   "id": "97191b99-e868-422b-88f6-42213fbccdad",
   "metadata": {},
   "outputs": [],
   "source": [
    "input_data = (0.0208,0.0186,0.0131,0.0211,0.0610,0.0613,0.0612,0.0506,0.0989,0.1093,0.1063,0.1179,0.1291,0.1591,0.1680,0.1918,0.1615,0.1647,0.1397,0.1426,0.2429,0.2816,0.4290,0.6443,0.9061,1.0000,0.8087,0.6119,0.5260,0.3677,0.2746,0.1020,0.1339,0.1582,0.1952,0.1787,0.0429,0.1096,0.1762,0.2481,0.3150,0.2920,0.1902,0.0696,0.0758,0.0910,0.0441,0.0244,0.0265,0.0095,0.0140,0.0074,0.0063,0.0081,0.0087,0.0044,0.0028,0.0019,0.0049,0.0023)\n",
    "\n",
    "# changing the input_data to a numpy array\n",
    "\n",
    "input_data_as_numpy_array = np.asarray(input_data)\n",
    "\n",
    "# reshape the numpy array as we are predicting for one instance\n",
    "\n",
    "input_data_reshape = input_data_as_numpy_array.reshape(1, -1)\n",
    "prediction = model.predict(input_data_reshape)\n",
    "print(prediction)\n",
    "\n",
    "if(prediction[0] == 'R'):\n",
    "    print('The object is a Rock.')\n",
    "else:\n",
    "    print('The object is a mine.')"
   ]
  },
  {
   "cell_type": "code",
   "execution_count": null,
   "id": "62cab30d-071b-4033-ab0f-3a6ae3c66354",
   "metadata": {},
   "outputs": [],
   "source": []
  }
 ],
 "metadata": {
  "kernelspec": {
   "display_name": "Python 3 (ipykernel)",
   "language": "python",
   "name": "python3"
  },
  "language_info": {
   "codemirror_mode": {
    "name": "ipython",
    "version": 3
   },
   "file_extension": ".py",
   "mimetype": "text/x-python",
   "name": "python",
   "nbconvert_exporter": "python",
   "pygments_lexer": "ipython3",
   "version": "3.11.5"
  }
 },
 "nbformat": 4,
 "nbformat_minor": 5
}
